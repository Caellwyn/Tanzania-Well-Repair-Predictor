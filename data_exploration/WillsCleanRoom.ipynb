{
 "cells": [
  {
   "cell_type": "code",
   "execution_count": 33,
   "metadata": {},
   "outputs": [],
   "source": [
    "import pandas as pd\n",
    "import numpy as np\n",
    "pd.set_option('display.max_columns', None)\n",
    "import matplotlib.pyplot as plt\n",
    "%matplotlib inline\n",
    "import sys\n",
    "sys.path.append(\"../\")\n",
    "from src.data import *\n",
    "\n",
    "from sklearn.model_selection import train_test_split, cross_val_score\n",
    "from sklearn.metrics import accuracy_score, confusion_matrix, classification_report, f1_score, recall_score\n",
    "from sklearn.model_selection import GridSearchCV\n",
    "from sklearn.metrics import plot_confusion_matrix\n",
    "\n",
    "from sklearn.impute import SimpleImputer\n",
    "from sklearn.preprocessing import OneHotEncoder, StandardScaler\n",
    "\n",
    "from xgboost import XGBClassifier\n",
    "from sklearn.tree import DecisionTreeClassifier\n",
    "from sklearn.ensemble import BaggingClassifier, RandomForestClassifier\n",
    "from sklearn.naive_bayes import GaussianNB\n",
    "import lightgbm as lgb"
   ]
  },
  {
   "cell_type": "code",
   "execution_count": 34,
   "metadata": {},
   "outputs": [],
   "source": [
    "X, y = load_data()"
   ]
  },
  {
   "cell_type": "code",
   "execution_count": 35,
   "metadata": {},
   "outputs": [],
   "source": [
    "X_train, X_test, y_train, y_test = train_test_split(X, y, test_size=.2, random_state=42)"
   ]
  },
  {
   "cell_type": "markdown",
   "metadata": {},
   "source": [
    "$Preproccesing data for XGBoost and LightGBM$"
   ]
  },
  {
   "cell_type": "code",
   "execution_count": 36,
   "metadata": {},
   "outputs": [],
   "source": [
    "wp = WellProcessor()"
   ]
  },
  {
   "cell_type": "code",
   "execution_count": 37,
   "metadata": {},
   "outputs": [],
   "source": [
    "wp.fit(X_train)\n",
    "X_train = wp.transform(X_train)"
   ]
  },
  {
   "cell_type": "code",
   "execution_count": 38,
   "metadata": {},
   "outputs": [],
   "source": [
    "X_test = wp.transform(X_test)"
   ]
  },
  {
   "cell_type": "markdown",
   "metadata": {},
   "source": [
    "$XGBoost$"
   ]
  },
  {
   "cell_type": "markdown",
   "metadata": {},
   "source": [
    "Becuase it is one of the strongest, if not the strongest, model on the market currently. I wanted to start with XGBoost to see what kind of results it can give as a benchmark."
   ]
  },
  {
   "cell_type": "code",
   "execution_count": 39,
   "metadata": {},
   "outputs": [],
   "source": [
    "# Instantiate XGBClassifier\n",
    "XGB = XGBClassifier()\n",
    "\n",
    "# Fit XGBClassifier\n",
    "XGB.fit(X_train, y_train)\n",
    "\n",
    "# Predict on training and test sets\n",
    "training_preds_xgb = XGB.predict(X_train)\n",
    "test_preds_xgb = XGB.predict(X_test)"
   ]
  },
  {
   "cell_type": "code",
   "execution_count": 40,
   "metadata": {},
   "outputs": [
    {
     "name": "stdout",
     "output_type": "stream",
     "text": [
      "              precision    recall  f1-score   support\n",
      "\n",
      "           0       0.84      0.72      0.78      4572\n",
      "           1       0.64      0.25      0.36       851\n",
      "           2       0.77      0.91      0.84      6457\n",
      "\n",
      "    accuracy                           0.79     11880\n",
      "   macro avg       0.75      0.63      0.66     11880\n",
      "weighted avg       0.79      0.79      0.78     11880\n",
      "\n"
     ]
    }
   ],
   "source": [
    "print(classification_report(y_test, test_preds_xgb))"
   ]
  },
  {
   "cell_type": "markdown",
   "metadata": {},
   "source": [
    "While XGBoost gave great results with default hyperparameters, it took a minimum of 12minutes to run. I wanted to compare its results to more efficent models."
   ]
  },
  {
   "cell_type": "markdown",
   "metadata": {},
   "source": [
    "*$DecisionTreeClassifier$*"
   ]
  },
  {
   "cell_type": "markdown",
   "metadata": {},
   "source": [
    "My next model was a Decision Tree. I wanted something to compare to XGBoost that was a little bit more simple, but still could deal with complex models. I also wanted a model that could execute faster than XGBoost."
   ]
  },
  {
   "cell_type": "code",
   "execution_count": 4,
   "metadata": {},
   "outputs": [
    {
     "name": "stdout",
     "output_type": "stream",
     "text": [
      "0.7634231192054719\n"
     ]
    }
   ],
   "source": [
    "rn_dtc = run_model (X_train, y_train, DecisionTreeClassifier())"
   ]
  },
  {
   "cell_type": "code",
   "execution_count": 5,
   "metadata": {},
   "outputs": [
    {
     "data": {
      "text/plain": [
       "0.7634231192054719"
      ]
     },
     "execution_count": 5,
     "metadata": {},
     "output_type": "execute_result"
    }
   ],
   "source": [
    "rn_dtc.best_score_"
   ]
  },
  {
   "cell_type": "markdown",
   "metadata": {},
   "source": [
    "We had a nice score from our Decision Tree Classifier, but not as high as our XGBoost."
   ]
  },
  {
   "cell_type": "markdown",
   "metadata": {},
   "source": [
    "$Random Forest Classifier$"
   ]
  },
  {
   "cell_type": "markdown",
   "metadata": {},
   "source": [
    "While my Decision Tree Classifier gave good results I wanted to try a more complex Random Forest Classifier to compare it to. I had great success with Random Forest in previous work, so it seemed like a natural choice."
   ]
  },
  {
   "cell_type": "code",
   "execution_count": 56,
   "metadata": {},
   "outputs": [
    {
     "name": "stdout",
     "output_type": "stream",
     "text": [
      "0.7831470454707473\n"
     ]
    }
   ],
   "source": [
    "rn_rfc = run_model (X_train, y_train, RandomForestClassifier())"
   ]
  },
  {
   "cell_type": "code",
   "execution_count": 57,
   "metadata": {},
   "outputs": [
    {
     "data": {
      "text/plain": [
       "0.7831470454707473"
      ]
     },
     "execution_count": 57,
     "metadata": {},
     "output_type": "execute_result"
    }
   ],
   "source": [
    "rn_rfc.best_score_"
   ]
  },
  {
   "cell_type": "markdown",
   "metadata": {},
   "source": [
    "My Random Forest gave a better score than my Decision Tree, which was great but the improvement wasnt as large as I was hoping. It was also slower than my Decision Tree."
   ]
  },
  {
   "cell_type": "markdown",
   "metadata": {},
   "source": [
    "$Naive Bayes$"
   ]
  },
  {
   "cell_type": "markdown",
   "metadata": {},
   "source": [
    "While the Random Forest was a success, I wanted to see if we can improve a scores by a greater margin. One of the biggest challnenges for our data is the dataset is so large. Naive Bayes models are recorded to be better with larger datasets, so I wanted to use one next."
   ]
  },
  {
   "cell_type": "code",
   "execution_count": 9,
   "metadata": {},
   "outputs": [
    {
     "name": "stdout",
     "output_type": "stream",
     "text": [
      "0.1799257700085921\n"
     ]
    }
   ],
   "source": [
    "rn_gnb = run_model (X_train, y_train, GaussianNB())"
   ]
  },
  {
   "cell_type": "code",
   "execution_count": 10,
   "metadata": {},
   "outputs": [
    {
     "data": {
      "text/plain": [
       "0.1799257700085921"
      ]
     },
     "execution_count": 10,
     "metadata": {},
     "output_type": "execute_result"
    }
   ],
   "source": [
    "rn_gnb.best_score_"
   ]
  },
  {
   "cell_type": "markdown",
   "metadata": {},
   "source": [
    "Huge drop in score, the dream has ended, hope is gone."
   ]
  },
  {
   "cell_type": "markdown",
   "metadata": {},
   "source": [
    "$LightGBM$"
   ]
  },
  {
   "cell_type": "markdown",
   "metadata": {},
   "source": [
    "After a misreble attempt with a Naive Bayes model I did some research into how to make our current best model even better. LightGBM is reported to be as competitive as XGBoost but with much faster times."
   ]
  },
  {
   "cell_type": "code",
   "execution_count": 43,
   "metadata": {},
   "outputs": [],
   "source": [
    "# Instantiate XGBClassifier\n",
    "lgbm = lgb.LGBMClassifier()\n",
    "\n",
    "# Fit XGBClassifier\n",
    "lgbm.fit(X_train, y_train)\n",
    "\n",
    "# Predict on training and test sets\n",
    "training_preds_lgbm = lgbm.predict(X_train)\n",
    "test_preds_lgbm = lgbm.predict(X_test)"
   ]
  },
  {
   "cell_type": "code",
   "execution_count": 44,
   "metadata": {},
   "outputs": [
    {
     "name": "stdout",
     "output_type": "stream",
     "text": [
      "              precision    recall  f1-score   support\n",
      "\n",
      "           0       0.84      0.71      0.77      4572\n",
      "           1       0.65      0.23      0.34       851\n",
      "           2       0.76      0.91      0.83      6457\n",
      "\n",
      "    accuracy                           0.79     11880\n",
      "   macro avg       0.75      0.62      0.65     11880\n",
      "weighted avg       0.79      0.79      0.77     11880\n",
      "\n"
     ]
    }
   ],
   "source": [
    "print(classification_report(y_test, test_preds_lgbm))"
   ]
  },
  {
   "cell_type": "markdown",
   "metadata": {},
   "source": [
    "$Hypertuning our Best Model$"
   ]
  },
  {
   "cell_type": "code",
   "execution_count": 52,
   "metadata": {},
   "outputs": [],
   "source": [
    "param_grid = {\n",
    "    'estimator__max_depth': [5,6,7,8],\n",
    "    'estimator__min_samples_split': [500,1000,1500],\n",
    "    'estimator__max_leaf_nodes': [10,25,50],\n",
    "    'estimator__min_samples_leaf': [100, 250]\n",
    "}"
   ]
  },
  {
   "cell_type": "code",
   "execution_count": 49,
   "metadata": {},
   "outputs": [
    {
     "data": {
      "text/plain": [
       "dict_keys(['bootstrap', 'ccp_alpha', 'class_weight', 'criterion', 'max_depth', 'max_features', 'max_leaf_nodes', 'max_samples', 'min_impurity_decrease', 'min_impurity_split', 'min_samples_leaf', 'min_samples_split', 'min_weight_fraction_leaf', 'n_estimators', 'n_jobs', 'oob_score', 'random_state', 'verbose', 'warm_start'])"
      ]
     },
     "execution_count": 49,
     "metadata": {},
     "output_type": "execute_result"
    }
   ],
   "source": [
    "rfc.get_params().keys()"
   ]
  },
  {
   "cell_type": "code",
   "execution_count": 53,
   "metadata": {},
   "outputs": [
    {
     "name": "stdout",
     "output_type": "stream",
     "text": [
      "0.5196142021514092\n"
     ]
    }
   ],
   "source": [
    "rn_rfc_bp = run_model (X_train, y_train, RandomForestClassifier(), param_grid=param_grid)"
   ]
  },
  {
   "cell_type": "code",
   "execution_count": 55,
   "metadata": {},
   "outputs": [
    {
     "data": {
      "text/plain": [
       "{'estimator__max_depth': 8,\n",
       " 'estimator__max_leaf_nodes': 50,\n",
       " 'estimator__min_samples_leaf': 100,\n",
       " 'estimator__min_samples_split': 500}"
      ]
     },
     "execution_count": 55,
     "metadata": {},
     "output_type": "execute_result"
    }
   ],
   "source": [
    "rn_rfc_bp.best_params_"
   ]
  },
  {
   "cell_type": "markdown",
   "metadata": {},
   "source": [
    "$Saving Y Preds$"
   ]
  },
  {
   "cell_type": "code",
   "execution_count": 66,
   "metadata": {},
   "outputs": [],
   "source": [
    "y_pred_rfc = rn_rfc.predict(X_test)"
   ]
  },
  {
   "cell_type": "code",
   "execution_count": 67,
   "metadata": {},
   "outputs": [],
   "source": [
    "y_pred_df = pd.DataFrame(data=y_pred_rfc, columns=y_test.columns, index=y_test.index)"
   ]
  },
  {
   "cell_type": "code",
   "execution_count": 69,
   "metadata": {},
   "outputs": [
    {
     "name": "stdout",
     "output_type": "stream",
     "text": [
      "/Users/William/Documents/Flatiron/Project 3/Tanzania-Well-Repair-Predictor/data_exploration\n"
     ]
    }
   ],
   "source": [
    "!pwd"
   ]
  },
  {
   "cell_type": "code",
   "execution_count": 70,
   "metadata": {},
   "outputs": [],
   "source": [
    "y_pred_df.to_csv('../data/best_y_preds.csv')"
   ]
  },
  {
   "cell_type": "code",
   "execution_count": null,
   "metadata": {},
   "outputs": [],
   "source": []
  }
 ],
 "metadata": {
  "kernelspec": {
   "display_name": "Python 3 (oy-env)",
   "language": "python",
   "name": "oy-env"
  },
  "language_info": {
   "codemirror_mode": {
    "name": "ipython",
    "version": 3
   },
   "file_extension": ".py",
   "mimetype": "text/x-python",
   "name": "python",
   "nbconvert_exporter": "python",
   "pygments_lexer": "ipython3",
   "version": "3.8.5"
  }
 },
 "nbformat": 4,
 "nbformat_minor": 4
}
